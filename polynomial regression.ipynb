{
 "cells": [
  {
   "cell_type": "code",
   "execution_count": 1,
   "id": "c2e09ec1",
   "metadata": {},
   "outputs": [],
   "source": [
    "import numpy as np"
   ]
  },
  {
   "cell_type": "code",
   "execution_count": 10,
   "id": "2f674beb",
   "metadata": {},
   "outputs": [],
   "source": [
    "rng = np.random.default_rng()\n",
    "x = np.arange(6, 16)\n",
    "rand = rng.random(size = 10)\n",
    "y = x**2 + rand\n",
    "arr = np.column_stack((x,y))"
   ]
  },
  {
   "cell_type": "code",
   "execution_count": 11,
   "id": "189f7687",
   "metadata": {},
   "outputs": [
    {
     "data": {
      "text/plain": [
       "array([[  6.        ,  36.29710347],\n",
       "       [  7.        ,  49.53671118],\n",
       "       [  8.        ,  64.01811489],\n",
       "       [  9.        ,  81.45882399],\n",
       "       [ 10.        , 100.58114402],\n",
       "       [ 11.        , 121.21884305],\n",
       "       [ 12.        , 144.10465538],\n",
       "       [ 13.        , 169.70732345],\n",
       "       [ 14.        , 196.80621516],\n",
       "       [ 15.        , 225.29325806]])"
      ]
     },
     "execution_count": 11,
     "metadata": {},
     "output_type": "execute_result"
    }
   ],
   "source": [
    "arr"
   ]
  },
  {
   "cell_type": "code",
   "execution_count": 12,
   "id": "e857fc77",
   "metadata": {},
   "outputs": [
    {
     "data": {
      "text/plain": [
       "array([[  6.,  36.],\n",
       "       [  7.,  49.],\n",
       "       [  8.,  64.],\n",
       "       [  9.,  81.],\n",
       "       [ 10., 100.],\n",
       "       [ 11., 121.],\n",
       "       [ 12., 144.],\n",
       "       [ 13., 169.],\n",
       "       [ 14., 196.],\n",
       "       [ 15., 225.]])"
      ]
     },
     "execution_count": 12,
     "metadata": {},
     "output_type": "execute_result"
    }
   ],
   "source": [
    "from sklearn.preprocessing import PolynomialFeatures\n",
    "poly = PolynomialFeatures(degree = 2, include_bias = False)\n",
    "res = poly.fit_transform(arr[:, [0]])\n",
    "res"
   ]
  },
  {
   "cell_type": "code",
   "execution_count": 14,
   "id": "0ae926e8",
   "metadata": {},
   "outputs": [
    {
     "data": {
      "text/plain": [
       "LinearRegression()"
      ]
     },
     "execution_count": 14,
     "metadata": {},
     "output_type": "execute_result"
    }
   ],
   "source": [
    "from sklearn.linear_model import LinearRegression\n",
    "reg = LinearRegression()\n",
    "reg.fit(res, arr[:, 1])"
   ]
  },
  {
   "cell_type": "code",
   "execution_count": 15,
   "id": "6ccfa9d2",
   "metadata": {},
   "outputs": [
    {
     "data": {
      "text/plain": [
       "array([-0.02522383,  1.00231893])"
      ]
     },
     "execution_count": 15,
     "metadata": {},
     "output_type": "execute_result"
    }
   ],
   "source": [
    "reg.coef_"
   ]
  },
  {
   "cell_type": "code",
   "execution_count": 16,
   "id": "93bf1d06",
   "metadata": {},
   "outputs": [
    {
     "data": {
      "text/plain": [
       "0.39227646824944884"
      ]
     },
     "execution_count": 16,
     "metadata": {},
     "output_type": "execute_result"
    }
   ],
   "source": [
    "reg.intercept_"
   ]
  },
  {
   "cell_type": "code",
   "execution_count": 18,
   "id": "810674f4",
   "metadata": {},
   "outputs": [
    {
     "data": {
      "text/plain": [
       "array([ 36.32441491,  49.32933715,  64.33889724,  81.35309519,\n",
       "       100.371931  , 121.39540467, 144.42351619, 169.45626558,\n",
       "       196.49365281, 225.53567791])"
      ]
     },
     "execution_count": 18,
     "metadata": {},
     "output_type": "execute_result"
    }
   ],
   "source": [
    "reg.predict(res)"
   ]
  },
  {
   "cell_type": "code",
   "execution_count": null,
   "id": "0a96c205",
   "metadata": {},
   "outputs": [],
   "source": []
  }
 ],
 "metadata": {
  "kernelspec": {
   "display_name": "Python 3 (ipykernel)",
   "language": "python",
   "name": "python3"
  },
  "language_info": {
   "codemirror_mode": {
    "name": "ipython",
    "version": 3
   },
   "file_extension": ".py",
   "mimetype": "text/x-python",
   "name": "python",
   "nbconvert_exporter": "python",
   "pygments_lexer": "ipython3",
   "version": "3.9.12"
  }
 },
 "nbformat": 4,
 "nbformat_minor": 5
}
